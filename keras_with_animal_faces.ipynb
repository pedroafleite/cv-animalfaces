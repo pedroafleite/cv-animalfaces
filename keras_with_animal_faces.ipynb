{
 "cells": [
  {
   "cell_type": "markdown",
   "metadata": {
    "papermill": {
     "duration": 0.033674,
     "end_time": "2020-09-21T12:27:21.799818",
     "exception": false,
     "start_time": "2020-09-21T12:27:21.766144",
     "status": "completed"
    },
    "tags": []
   },
   "source": [
    "This study tries to predict animal face use 4 different algorithms:\n",
    "1. Logistic regression classification\n",
    "1. SVM (Support Vector Machine) classification\n",
    "1. Random forest classification\n",
    "1. Decision tree classification\n",
    "\n",
    "\n",
    "* The dataset contains 3 animal: cat, dog, and wild\n",
    "* Source dataset: https://www.kaggle.com/andrewmvd/animal-faces"
   ]
  },
  {
   "cell_type": "code",
   "execution_count": 1,
   "metadata": {
    "_cell_guid": "b1076dfc-b9ad-4769-8c92-a6c4dae69d19",
    "_uuid": "8f2839f25d086af736a60e9eeb907d3b93b6e0e5",
    "execution": {
     "iopub.execute_input": "2020-09-21T12:27:21.870027Z",
     "iopub.status.busy": "2020-09-21T12:27:21.869165Z",
     "iopub.status.idle": "2020-09-21T12:27:23.153840Z",
     "shell.execute_reply": "2020-09-21T12:27:23.154885Z"
    },
    "papermill": {
     "duration": 1.324485,
     "end_time": "2020-09-21T12:27:23.155090",
     "exception": false,
     "start_time": "2020-09-21T12:27:21.830605",
     "status": "completed"
    },
    "tags": []
   },
   "outputs": [],
   "source": [
    "import numpy as np\n",
    "import pandas as pd\n",
    "import matplotlib.pyplot as plt\n",
    "plt.style.use(\"seaborn-whitegrid\")\n",
    "import matplotlib.image as implt\n",
    "from PIL import Image\n",
    "import seaborn as sns\n",
    "import cv2 as cs2\n",
    "import os\n",
    "import shutil\n",
    "import random\n",
    "import os.path\n",
    "\n",
    "import warnings\n",
    "warnings.filterwarnings('ignore')"
   ]
  },
  {
   "cell_type": "code",
   "execution_count": 2,
   "metadata": {
    "execution": {
     "iopub.execute_input": "2020-09-21T12:27:23.219999Z",
     "iopub.status.busy": "2020-09-21T12:27:23.219258Z",
     "iopub.status.idle": "2020-09-21T12:27:29.372661Z",
     "shell.execute_reply": "2020-09-21T12:27:29.372017Z"
    },
    "papermill": {
     "duration": 6.1866,
     "end_time": "2020-09-21T12:27:29.372791",
     "exception": false,
     "start_time": "2020-09-21T12:27:23.186191",
     "status": "completed"
    },
    "tags": []
   },
   "outputs": [],
   "source": [
    "## import Keras and its module for image processing and model building\n",
    "from tensorflow import keras\n",
    "from tensorflow.keras.preprocessing.image import load_img, img_to_array\n",
    "from tensorflow.keras.models import Sequential\n",
    "from tensorflow.keras.layers import Conv2D, MaxPooling2D\n",
    "from tensorflow.keras.layers import Activation, Dropout, Flatten, Dense, BatchNormalization"
   ]
  },
  {
   "cell_type": "markdown",
   "metadata": {
    "papermill": {
     "duration": 0.042218,
     "end_time": "2020-09-21T12:27:32.397366",
     "exception": false,
     "start_time": "2020-09-21T12:27:32.355148",
     "status": "completed"
    },
    "tags": []
   },
   "source": [
    "# Processing Dataset \n",
    "\n",
    "The dataset came with only two divisions: a training dataset and a test dataset, in different folders.\n",
    "However, we would also need a third division: a validation dataset in which we would train against before testing the final accuracy on the test dataset. This would allow us to avoid overfitting due to training samples in the dataset that we used to test.\n",
    "\n",
    "We also need to shuffle the wild dataset into the new validation folder, because it seems that the images are not ramdomly distributed there (there seems to be some rough division according to each wild species, such as foxes, tigers, leons, and so on.)\n",
    "\n"
   ]
  },
  {
   "cell_type": "code",
   "execution_count": 4,
   "metadata": {},
   "outputs": [],
   "source": [
    "original_dataset_dir = r'C:\\Users\\Pedro\\Documents\\Python Scripts\\cv_animalfaces\\input\\animal-faces\\all'\n",
    "\n",
    "base_dir = r'C:\\Users\\Pedro\\Documents\\Python Scripts\\cv_animalfaces\\input'\n",
    "# os.mkdir(base_dir)\n",
    "\n",
    "train_dir = os.path.join(base_dir, 'train')\n",
    "os.mkdir(train_dir)\n",
    "\n",
    "validation_dir = os.path.join(base_dir, 'validation')\n",
    "os.mkdir(validation_dir)\n",
    "\n",
    "test_dir = os.path.join(base_dir, 'test')\n",
    "os.mkdir(test_dir)\n",
    "\n",
    "train_cats_dir = os.path.join(train_dir, 'cats')\n",
    "os.mkdir(train_cats_dir)\n",
    "\n",
    "train_dogs_dir = os.path.join(train_dir, 'dogs')\n",
    "os.mkdir(train_dogs_dir)\n",
    "\n",
    "train_dogs_dir = os.path.join(train_dir, 'wild')\n",
    "os.mkdir(train_dogs_dir)\n",
    "\n",
    "validation_cats_dir = os.path.join(validation_dir, 'cats')\n",
    "os.mkdir(validation_cats_dir)\n",
    "\n",
    "validation_dogs_dir = os.path.join(validation_dir, 'dogs')\n",
    "os.mkdir(validation_dogs_dir)\n",
    "\n",
    "train_dogs_dir = os.path.join(validation_dir, 'wild')\n",
    "os.mkdir(train_dogs_dir)\n",
    "\n",
    "test_cats_dir = os.path.join(test_dir, 'cats')\n",
    "os.mkdir(test_cats_dir)\n",
    "\n",
    "test_dogs_dir = os.path.join(test_dir, 'dogs')\n",
    "os.mkdir(test_dogs_dir)\n",
    "\n",
    "train_dogs_dir = os.path.join(test_dir, 'wild')\n",
    "os.mkdir(train_dogs_dir)"
   ]
  },
  {
   "cell_type": "code",
   "execution_count": 5,
   "metadata": {},
   "outputs": [],
   "source": [
    "src_cat = os.path.join(original_dataset_dir, 'cat')\n",
    "src_cat_imgs = (os.listdir(src_cat))\n",
    "\n",
    "src_dog = os.path.join(original_dataset_dir, 'dog')\n",
    "src_dog_imgs = (os.listdir(src_dog))\n",
    "\n",
    "src_wild = os.path.join(original_dataset_dir, 'wild')\n",
    "src_wild_imgs = (os.listdir(src_wild))\n",
    "\n",
    "def valid_path(dir_path, filename):\n",
    "    full_path = os.path.join(dir_path, filename)\n",
    "    return os.path.isfile(full_path)"
   ]
  },
  {
   "cell_type": "code",
   "execution_count": 6,
   "metadata": {},
   "outputs": [
    {
     "name": "stdout",
     "output_type": "stream",
     "text": [
      "Cat images:5653\n",
      "Dog images:5239\n",
      "Wild images:5238\n"
     ]
    }
   ],
   "source": [
    "print(f'Cat images:{len(src_cat_imgs)}')\n",
    "print(f'Dog images:{len(src_dog_imgs)}')\n",
    "print(f'Wild images:{len(src_wild_imgs)}')"
   ]
  },
  {
   "cell_type": "code",
   "execution_count": 11,
   "metadata": {},
   "outputs": [
    {
     "data": {
      "text/plain": [
       "3957"
      ]
     },
     "execution_count": 11,
     "metadata": {},
     "output_type": "execute_result"
    }
   ],
   "source": [
    "int(len(src_cat_imgs)*0.7)"
   ]
  },
  {
   "cell_type": "markdown",
   "metadata": {},
   "source": [
    "We will split the dataset in the following ratio:\n",
    "1. Training dataset 70%\n",
    "2. Validation dataset 15%\n",
    "3. Test dataset 15%"
   ]
  },
  {
   "cell_type": "code",
   "execution_count": 14,
   "metadata": {},
   "outputs": [],
   "source": [
    "# Test\n",
    "\n",
    "cat_files = [os.path.join(src_cat, f) for f in src_cat_imgs if valid_path(src_cat, f)]\n",
    "choices = random.sample(cat_files, int(len(src_cat_imgs)*0.15))\n",
    "target_cat_test = r'C:\\Users\\Pedro\\Documents\\Python Scripts\\cv_animalfaces\\input\\test\\cats'\n",
    "for files in choices:\n",
    "    shutil.move(files, target_cat_test)\n",
    "\n",
    "dog_files = [os.path.join(src_dog, f) for f in src_dog_imgs if valid_path(src_dog, f)]\n",
    "choices = random.sample(dog_files, int(len(src_dog_imgs)*0.15))\n",
    "target_dog_test = r'C:\\Users\\Pedro\\Documents\\Python Scripts\\cv_animalfaces\\input\\test\\dogs'\n",
    "for files in choices:\n",
    "    shutil.move(files, target_dog_test)\n",
    "\n",
    "wild_files = [os.path.join(src_wild, f) for f in src_wild_imgs if valid_path(src_wild, f)]\n",
    "choices = random.sample(wild_files, int(len(src_wild_imgs)*0.15))\n",
    "target_wild_test = r'C:\\Users\\Pedro\\Documents\\Python Scripts\\cv_animalfaces\\input\\test\\wild'\n",
    "for files in choices:\n",
    "    shutil.move(files, target_wild_test)"
   ]
  },
  {
   "cell_type": "code",
   "execution_count": 13,
   "metadata": {},
   "outputs": [],
   "source": [
    "# Validation\n",
    "\n",
    "cat_files = [os.path.join(src_cat, f) for f in src_cat_imgs if valid_path(src_cat, f)]\n",
    "choices = random.sample(cat_files, int(len(src_cat_imgs)*0.15))\n",
    "target_cat_test = r'C:\\Users\\Pedro\\Documents\\Python Scripts\\cv_animalfaces\\input\\validation\\cats'\n",
    "for files in choices:\n",
    "    shutil.move(files, target_cat_test)\n",
    "\n",
    "dog_files = [os.path.join(src_dog, f) for f in src_dog_imgs if valid_path(src_dog, f)]\n",
    "choices = random.sample(dog_files, int(len(src_dog_imgs)*0.15))\n",
    "target_dog_test = r'C:\\Users\\Pedro\\Documents\\Python Scripts\\cv_animalfaces\\input\\validation\\dogs'\n",
    "for files in choices:\n",
    "    shutil.move(files, target_dog_test)\n",
    "\n",
    "wild_files = [os.path.join(src_wild, f) for f in src_wild_imgs if valid_path(src_wild, f)]\n",
    "choices = random.sample(wild_files, int(len(src_wild_imgs)*0.15))\n",
    "target_wild_test = r'C:\\Users\\Pedro\\Documents\\Python Scripts\\cv_animalfaces\\input\\validation\\wild'\n",
    "for files in choices:\n",
    "    shutil.move(files, target_wild_test)"
   ]
  },
  {
   "cell_type": "code",
   "execution_count": 15,
   "metadata": {},
   "outputs": [],
   "source": [
    "# Training\n",
    "\n",
    "cat_files = [os.path.join(src_cat, f) for f in src_cat_imgs if valid_path(src_cat, f)]\n",
    "choices = random.sample(cat_files, int(len(src_cat_imgs)*0.70))\n",
    "target_cat_test = r'C:\\Users\\Pedro\\Documents\\Python Scripts\\cv_animalfaces\\input\\train\\cats'\n",
    "for files in choices:\n",
    "    shutil.move(files, target_cat_test)\n",
    "\n",
    "dog_files = [os.path.join(src_dog, f) for f in src_dog_imgs if valid_path(src_dog, f)]\n",
    "choices = random.sample(dog_files, int(len(src_dog_imgs)*0.70))\n",
    "target_dog_test = r'C:\\Users\\Pedro\\Documents\\Python Scripts\\cv_animalfaces\\input\\train\\dogs'\n",
    "for files in choices:\n",
    "    shutil.move(files, target_dog_test)\n",
    "\n",
    "wild_files = [os.path.join(src_wild, f) for f in src_wild_imgs if valid_path(src_wild, f)]\n",
    "choices = random.sample(wild_files, int(len(src_wild_imgs)*0.70))\n",
    "target_wild_test = r'C:\\Users\\Pedro\\Documents\\Python Scripts\\cv_animalfaces\\input\\train\\wild'\n",
    "for files in choices:\n",
    "    shutil.move(files, target_wild_test)"
   ]
  }
 ],
 "metadata": {
  "kernelspec": {
   "display_name": "Python 3",
   "language": "python",
   "name": "python3"
  },
  "language_info": {
   "codemirror_mode": {
    "name": "ipython",
    "version": 3
   },
   "file_extension": ".py",
   "mimetype": "text/x-python",
   "name": "python",
   "nbconvert_exporter": "python",
   "pygments_lexer": "ipython3",
   "version": "3.6.10"
  },
  "papermill": {
   "duration": 28831.170345,
   "end_time": "2020-09-21T20:27:48.084532",
   "environment_variables": {},
   "exception": null,
   "input_path": "__notebook__.ipynb",
   "output_path": "__notebook__.ipynb",
   "parameters": {},
   "start_time": "2020-09-21T12:27:16.914187",
   "version": "2.1.0"
  }
 },
 "nbformat": 4,
 "nbformat_minor": 4
}
