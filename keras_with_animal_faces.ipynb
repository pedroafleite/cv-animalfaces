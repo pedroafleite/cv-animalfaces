{
 "cells": [
  {
   "cell_type": "markdown",
   "metadata": {
    "papermill": {
     "duration": 0.033674,
     "end_time": "2020-09-21T12:27:21.799818",
     "exception": false,
     "start_time": "2020-09-21T12:27:21.766144",
     "status": "completed"
    },
    "tags": []
   },
   "source": [
    "This study tries to predict animal face use 4 different algorithms:\n",
    "1. Logistic regression classification\n",
    "1. SVM (Support Vector Machine) classification\n",
    "1. Random forest classification\n",
    "1. Decision tree classification\n",
    "\n",
    "\n",
    "* The dataset contains 3 animal: cat, dog, and wild\n",
    "* Source dataset: https://www.kaggle.com/andrewmvd/animal-faces"
   ]
  },
  {
   "cell_type": "code",
   "execution_count": 1,
   "metadata": {
    "_cell_guid": "b1076dfc-b9ad-4769-8c92-a6c4dae69d19",
    "_uuid": "8f2839f25d086af736a60e9eeb907d3b93b6e0e5",
    "execution": {
     "iopub.execute_input": "2020-09-21T12:27:21.870027Z",
     "iopub.status.busy": "2020-09-21T12:27:21.869165Z",
     "iopub.status.idle": "2020-09-21T12:27:23.153840Z",
     "shell.execute_reply": "2020-09-21T12:27:23.154885Z"
    },
    "papermill": {
     "duration": 1.324485,
     "end_time": "2020-09-21T12:27:23.155090",
     "exception": false,
     "start_time": "2020-09-21T12:27:21.830605",
     "status": "completed"
    },
    "tags": []
   },
   "outputs": [],
   "source": [
    "import numpy as np\n",
    "import pandas as pd\n",
    "import matplotlib.pyplot as plt\n",
    "plt.style.use(\"seaborn-whitegrid\")\n",
    "import matplotlib.image as implt\n",
    "from PIL import Image\n",
    "import seaborn as sns\n",
    "import cv2 as cs2\n",
    "import os\n",
    "import shutil\n",
    "import random\n",
    "import os.path\n",
    "\n",
    "import warnings\n",
    "warnings.filterwarnings('ignore')"
   ]
  },
  {
   "cell_type": "code",
   "execution_count": 21,
   "metadata": {
    "execution": {
     "iopub.execute_input": "2020-09-21T12:27:23.219999Z",
     "iopub.status.busy": "2020-09-21T12:27:23.219258Z",
     "iopub.status.idle": "2020-09-21T12:27:29.372661Z",
     "shell.execute_reply": "2020-09-21T12:27:29.372017Z"
    },
    "papermill": {
     "duration": 6.1866,
     "end_time": "2020-09-21T12:27:29.372791",
     "exception": false,
     "start_time": "2020-09-21T12:27:23.186191",
     "status": "completed"
    },
    "tags": []
   },
   "outputs": [],
   "source": [
    "## import Keras and its module for image processing and model building\n",
    "import tensorflow as tf\n",
    "from tensorflow import keras\n",
    "from tensorflow.keras.preprocessing.image import load_img, img_to_array\n",
    "from tensorflow.keras.models import Sequential\n",
    "from tensorflow.keras.layers import Conv2D, MaxPooling2D\n",
    "from tensorflow.keras.layers import Activation, Dropout, Flatten, Dense, BatchNormalization"
   ]
  },
  {
   "cell_type": "markdown",
   "metadata": {
    "papermill": {
     "duration": 0.042218,
     "end_time": "2020-09-21T12:27:32.397366",
     "exception": false,
     "start_time": "2020-09-21T12:27:32.355148",
     "status": "completed"
    },
    "tags": []
   },
   "source": [
    "# Process the data \n",
    "\n",
    "The dataset came with only two divisions: a training dataset and a test dataset, in different folders.\n",
    "However, we would also need a third division: a validation dataset in which we would train against before testing the final accuracy on the test dataset. This would allow us to avoid overfitting due to training samples in the dataset that we used to test.\n",
    "\n",
    "We also need to shuffle the wild dataset into the new validation folder, because it seems that the images are not ramdomly distributed there (there seems to be some rough division according to each wild species, such as foxes, tigers, leons, and so on.)\n",
    "\n"
   ]
  },
  {
   "cell_type": "code",
   "execution_count": 4,
   "metadata": {},
   "outputs": [],
   "source": [
    "original_dataset_dir = r'C:\\Users\\Pedro\\Documents\\Python Scripts\\cv_animalfaces\\input\\animal-faces\\all'\n",
    "\n",
    "base_dir = r'C:\\Users\\Pedro\\Documents\\Python Scripts\\cv_animalfaces\\input'\n",
    "# os.mkdir(base_dir)\n",
    "\n",
    "train_dir = os.path.join(base_dir, 'train')\n",
    "os.mkdir(train_dir)\n",
    "\n",
    "validation_dir = os.path.join(base_dir, 'validation')\n",
    "os.mkdir(validation_dir)\n",
    "\n",
    "test_dir = os.path.join(base_dir, 'test')\n",
    "os.mkdir(test_dir)\n",
    "\n",
    "train_cats_dir = os.path.join(train_dir, 'cats')\n",
    "os.mkdir(train_cats_dir)\n",
    "\n",
    "train_dogs_dir = os.path.join(train_dir, 'dogs')\n",
    "os.mkdir(train_dogs_dir)\n",
    "\n",
    "train_dogs_dir = os.path.join(train_dir, 'wild')\n",
    "os.mkdir(train_dogs_dir)\n",
    "\n",
    "validation_cats_dir = os.path.join(validation_dir, 'cats')\n",
    "os.mkdir(validation_cats_dir)\n",
    "\n",
    "validation_dogs_dir = os.path.join(validation_dir, 'dogs')\n",
    "os.mkdir(validation_dogs_dir)\n",
    "\n",
    "train_dogs_dir = os.path.join(validation_dir, 'wild')\n",
    "os.mkdir(train_dogs_dir)\n",
    "\n",
    "test_cats_dir = os.path.join(test_dir, 'cats')\n",
    "os.mkdir(test_cats_dir)\n",
    "\n",
    "test_dogs_dir = os.path.join(test_dir, 'dogs')\n",
    "os.mkdir(test_dogs_dir)\n",
    "\n",
    "train_dogs_dir = os.path.join(test_dir, 'wild')\n",
    "os.mkdir(train_dogs_dir)"
   ]
  },
  {
   "cell_type": "code",
   "execution_count": 5,
   "metadata": {},
   "outputs": [],
   "source": [
    "src_cat = os.path.join(original_dataset_dir, 'cat')\n",
    "src_cat_imgs = (os.listdir(src_cat))\n",
    "\n",
    "src_dog = os.path.join(original_dataset_dir, 'dog')\n",
    "src_dog_imgs = (os.listdir(src_dog))\n",
    "\n",
    "src_wild = os.path.join(original_dataset_dir, 'wild')\n",
    "src_wild_imgs = (os.listdir(src_wild))\n",
    "\n",
    "def valid_path(dir_path, filename):\n",
    "    full_path = os.path.join(dir_path, filename)\n",
    "    return os.path.isfile(full_path)"
   ]
  },
  {
   "cell_type": "code",
   "execution_count": 6,
   "metadata": {},
   "outputs": [
    {
     "name": "stdout",
     "output_type": "stream",
     "text": [
      "Cat images:5653\n",
      "Dog images:5239\n",
      "Wild images:5238\n"
     ]
    }
   ],
   "source": [
    "print(f'Cat images:{len(src_cat_imgs)}')\n",
    "print(f'Dog images:{len(src_dog_imgs)}')\n",
    "print(f'Wild images:{len(src_wild_imgs)}')"
   ]
  },
  {
   "cell_type": "code",
   "execution_count": 11,
   "metadata": {},
   "outputs": [
    {
     "data": {
      "text/plain": [
       "3957"
      ]
     },
     "execution_count": 11,
     "metadata": {},
     "output_type": "execute_result"
    }
   ],
   "source": [
    "int(len(src_cat_imgs)*0.7)"
   ]
  },
  {
   "cell_type": "markdown",
   "metadata": {},
   "source": [
    "We will split the dataset in the following ratio:\n",
    "1. Training dataset 70%\n",
    "2. Validation dataset 15%\n",
    "3. Test dataset 15%"
   ]
  },
  {
   "cell_type": "code",
   "execution_count": 14,
   "metadata": {},
   "outputs": [],
   "source": [
    "# Test\n",
    "\n",
    "cat_files = [os.path.join(src_cat, f) for f in src_cat_imgs if valid_path(src_cat, f)]\n",
    "choices = random.sample(cat_files, int(len(src_cat_imgs)*0.15)) # 15%\n",
    "test_cat = r'C:\\Users\\Pedro\\Documents\\Python Scripts\\cv_animalfaces\\input\\test\\cats'\n",
    "for files in choices:\n",
    "    shutil.move(files, test_cat)\n",
    "\n",
    "dog_files = [os.path.join(src_dog, f) for f in src_dog_imgs if valid_path(src_dog, f)]\n",
    "choices = random.sample(dog_files, int(len(src_dog_imgs)*0.15))\n",
    "test_dog = r'C:\\Users\\Pedro\\Documents\\Python Scripts\\cv_animalfaces\\input\\test\\dogs'\n",
    "for files in choices:\n",
    "    shutil.move(files, test_dog)\n",
    "\n",
    "wild_files = [os.path.join(src_wild, f) for f in src_wild_imgs if valid_path(src_wild, f)]\n",
    "choices = random.sample(wild_files, int(len(src_wild_imgs)*0.15))\n",
    "test_wild = r'C:\\Users\\Pedro\\Documents\\Python Scripts\\cv_animalfaces\\input\\test\\wild'\n",
    "for files in choices:\n",
    "    shutil.move(files, test_wild)"
   ]
  },
  {
   "cell_type": "code",
   "execution_count": 13,
   "metadata": {},
   "outputs": [],
   "source": [
    "# Validation\n",
    "\n",
    "cat_files = [os.path.join(src_cat, f) for f in src_cat_imgs if valid_path(src_cat, f)]\n",
    "choices = random.sample(cat_files, int(len(src_cat_imgs)*0.15)) # 15%\n",
    "val_cat = r'C:\\Users\\Pedro\\Documents\\Python Scripts\\cv_animalfaces\\input\\validation\\cats'\n",
    "for files in choices:\n",
    "    shutil.move(files, val_cat)\n",
    "\n",
    "dog_files = [os.path.join(src_dog, f) for f in src_dog_imgs if valid_path(src_dog, f)]\n",
    "choices = random.sample(dog_files, int(len(src_dog_imgs)*0.15))\n",
    "val_dog = r'C:\\Users\\Pedro\\Documents\\Python Scripts\\cv_animalfaces\\input\\validation\\dogs'\n",
    "for files in choices:\n",
    "    shutil.move(files, val_dog)\n",
    "\n",
    "wild_files = [os.path.join(src_wild, f) for f in src_wild_imgs if valid_path(src_wild, f)]\n",
    "choices = random.sample(wild_files, int(len(src_wild_imgs)*0.15))\n",
    "val_wild = r'C:\\Users\\Pedro\\Documents\\Python Scripts\\cv_animalfaces\\input\\validation\\wild'\n",
    "for files in choices:\n",
    "    shutil.move(files, val_wild)"
   ]
  },
  {
   "cell_type": "code",
   "execution_count": 15,
   "metadata": {},
   "outputs": [],
   "source": [
    "# Training\n",
    "\n",
    "cat_files = [os.path.join(src_cat, f) for f in src_cat_imgs if valid_path(src_cat, f)]\n",
    "choices = random.sample(cat_files, int(len(src_cat_imgs)*0.70)) # 70%\n",
    "train_cat = r'C:\\Users\\Pedro\\Documents\\Python Scripts\\cv_animalfaces\\input\\train\\cats'\n",
    "for files in choices:\n",
    "    shutil.move(files, train_cat)\n",
    "\n",
    "dog_files = [os.path.join(src_dog, f) for f in src_dog_imgs if valid_path(src_dog, f)]\n",
    "choices = random.sample(dog_files, int(len(src_dog_imgs)*0.70))\n",
    "train_dog = r'C:\\Users\\Pedro\\Documents\\Python Scripts\\cv_animalfaces\\input\\train\\dogs'\n",
    "for files in choices:\n",
    "    shutil.move(files, train_dog)\n",
    "\n",
    "wild_files = [os.path.join(src_wild, f) for f in src_wild_imgs if valid_path(src_wild, f)]\n",
    "choices = random.sample(wild_files, int(len(src_wild_imgs)*0.70))\n",
    "train_wild = r'C:\\Users\\Pedro\\Documents\\Python Scripts\\cv_animalfaces\\input\\train\\wild'\n",
    "for files in choices:\n",
    "    shutil.move(files, train_wild)"
   ]
  },
  {
   "cell_type": "code",
   "execution_count": 25,
   "metadata": {},
   "outputs": [],
   "source": [
    "test_cat = r'C:\\Users\\Pedro\\Documents\\Python Scripts\\cv_animalfaces\\input\\test\\cats'\n",
    "test_dog = r'C:\\Users\\Pedro\\Documents\\Python Scripts\\cv_animalfaces\\input\\test\\dogs'\n",
    "test_wild = r'C:\\Users\\Pedro\\Documents\\Python Scripts\\cv_animalfaces\\input\\test\\wild'\n",
    "val_cat = r'C:\\Users\\Pedro\\Documents\\Python Scripts\\cv_animalfaces\\input\\validation\\cats'\n",
    "val_dog = r'C:\\Users\\Pedro\\Documents\\Python Scripts\\cv_animalfaces\\input\\validation\\dogs'\n",
    "val_wild = r'C:\\Users\\Pedro\\Documents\\Python Scripts\\cv_animalfaces\\input\\validation\\wild'\n",
    "train_cat = r'C:\\Users\\Pedro\\Documents\\Python Scripts\\cv_animalfaces\\input\\train\\cats'\n",
    "train_dog = r'C:\\Users\\Pedro\\Documents\\Python Scripts\\cv_animalfaces\\input\\train\\dogs'\n",
    "train_wild = r'C:\\Users\\Pedro\\Documents\\Python Scripts\\cv_animalfaces\\input\\train\\wild'"
   ]
  },
  {
   "cell_type": "code",
   "execution_count": 20,
   "metadata": {},
   "outputs": [
    {
     "name": "stdout",
     "output_type": "stream",
     "text": [
      "total test cat images: 847\n",
      "total test dog images: 785\n",
      "total test wild images: 785\n",
      "=============================\n",
      "total validation cat images: 847\n",
      "total validation dog images: 785\n",
      "total validation wild images: 785\n",
      "=============================\n",
      "total training cat images: 3957\n",
      "total training cat images: 3957\n",
      "total training cat images: 3957\n"
     ]
    }
   ],
   "source": [
    "print('total test cat images:', len(os.listdir(test_cats_dir)))\n",
    "print('total test dog images:', len(os.listdir(test_dogs_dir)))\n",
    "print('total test wild images:', len(os.listdir(test_wild_dir)))\n",
    "print('=============================')\n",
    "print('total validation cat images:', len(os.listdir(val_cats_dir)))\n",
    "print('total validation dog images:', len(os.listdir(val_dogs_dir)))\n",
    "print('total validation wild images:', len(os.listdir(val_wild_dir)))\n",
    "print('=============================')\n",
    "print('total training cat images:', len(os.listdir(train_cats_dir)))\n",
    "print('total training cat images:', len(os.listdir(train_cats_dir)))\n",
    "print('total training cat images:', len(os.listdir(train_cats_dir)))"
   ]
  },
  {
   "cell_type": "markdown",
   "metadata": {},
   "source": [
    "Because we need to classify our samples into one of three classes, we have a **multiclass classification** problem.\n",
    "\n",
    "\n",
    "Now we need to modify the images. The dataset contains different sizes of RGB color images. \n",
    "1. we should resize all the images, \n",
    "2. convert images to grayscale (only one dimension), while RBF image has three and helps you to avoid false classification and complexities."
   ]
  },
  {
   "cell_type": "code",
   "execution_count": 29,
   "metadata": {},
   "outputs": [],
   "source": [
    "img_size = 50\n",
    "cat_train = []\n",
    "dog_train = []\n",
    "wild_train = []\n",
    "label = []\n",
    "\n",
    "train_path = r'C:\\Users\\Pedro\\Documents\\Python Scripts\\cv_animalfaces\\input\\train'\n",
    "\n",
    "for i in os.listdir(train_cat): # all train cat images\n",
    "    if os.path.isfile(train_path + \"\\cats\\\\\" + i): # check image in file\n",
    "        cat = Image.open(train_path + \"\\cats\\\\\" + i).convert(\"L\") # converting grey scale \n",
    "        cat = cat.resize((img_size,img_size), Image.ANTIALIAS) # resizing to 50,50\n",
    "        cat = np.asarray(cat)/255 # bit format\n",
    "        cat_train.append(cat)\n",
    "        label.append(0)\n",
    "        \n",
    "for i in os.listdir(train_dog): # all train dog images\n",
    "    if os.path.isfile(train_path + \"\\dogs\\\\\" + i): # check image in file\n",
    "        dog = Image.open(train_path + \"\\dogs\\\\\" + i).convert(\"L\") # converting grey scale \n",
    "        dog = dog.resize((img_size,img_size), Image.ANTIALIAS) # resizing to 50,50\n",
    "        dog = np.asarray(dog)/255 # bit format\n",
    "        dog_train.append(dog)\n",
    "        label.append(1)\n",
    "        \n",
    "        \n",
    "for i in os.listdir(train_wild): # all train wild images\n",
    "    if os.path.isfile(train_path + \"\\wild\\\\\" + i): # check image in file\n",
    "        wild = Image.open(train_path + \"\\wild\\\\\" + i).convert(\"L\") # converting grey scale \n",
    "        wild = wild.resize((img_size,img_size), Image.ANTIALIAS) # resizing to 50,50\n",
    "        wild = np.asarray(wild)/255 # bit format\n",
    "        wild_train.append(wild)\n",
    "        label.append(2)"
   ]
  },
  {
   "cell_type": "code",
   "execution_count": 30,
   "metadata": {},
   "outputs": [
    {
     "name": "stdout",
     "output_type": "stream",
     "text": [
      "cat: (3957, 50, 50) dog: (3667, 50, 50) wild: (3666, 50, 50)\n",
      "train_dataset: (11290, 50, 50) train_values: (11290, 1)\n"
     ]
    }
   ],
   "source": [
    "x_train = np.concatenate((cat_train,dog_train,wild_train),axis=0) # training dataset\n",
    "x_train_label = np.asarray(label) # label array containing 0, 1, and 2\n",
    "x_train_label = x_train_label.reshape(x_train_label.shape[0],1)\n",
    "\n",
    "print(\"cat:\",np.shape(cat_train) , \"dog:\",np.shape(dog_train), \"wild:\",np.shape(wild_train))\n",
    "print(\"train_dataset:\",np.shape(x_train), \"train_values:\",np.shape(x_train_label))"
   ]
  },
  {
   "cell_type": "code",
   "execution_count": 34,
   "metadata": {},
   "outputs": [
    {
     "name": "stdout",
     "output_type": "stream",
     "text": [
      "Train Cat Image\n"
     ]
    },
    {
     "data": {
      "image/png": "[encoded data removed]",
      "text/plain": [
       "<Figure size 432x288 with 1 Axes>"
      ]
     },
     "metadata": {},
     "output_type": "display_data"
    },
    {
     "name": "stdout",
     "output_type": "stream",
     "text": [
      "Train Dog Image\n"
     ]
    },
    {
     "data": {
      "image/png": "[encoded data removed]",
      "text/plain": [
       "<Figure size 432x288 with 1 Axes>"
      ]
     },
     "metadata": {},
     "output_type": "display_data"
    },
    {
     "name": "stdout",
     "output_type": "stream",
     "text": [
      "Train Wild Image\n"
     ]
    },
    {
     "data": {
      "image/png": "[encoded data removed]",
      "text/plain": [
       "<Figure size 432x288 with 1 Axes>"
      ]
     },
     "metadata": {},
     "output_type": "display_data"
    }
   ],
   "source": [
    "# Visualizing Training data\n",
    "print('Train Cat Image')\n",
    "plt.imshow(cat_train[0])\n",
    "plt.show()\n",
    "\n",
    "# Visualizing Training data\n",
    "print('Train Dog Image')\n",
    "plt.imshow(dog_train[0])\n",
    "plt.show()\n",
    "\n",
    "# Visualizing Training data\n",
    "print('Train Wild Image')\n",
    "plt.imshow(wild_train[0])\n",
    "plt.show()"
   ]
  },
  {
   "cell_type": "markdown",
   "metadata": {},
   "source": [
    "# Build the model"
   ]
  },
  {
   "cell_type": "code",
   "execution_count": 22,
   "metadata": {},
   "outputs": [
    {
     "name": "stdout",
     "output_type": "stream",
     "text": [
      "WARNING:tensorflow:From C:\\Users\\Pedro\\anaconda3\\envs\\venv36\\lib\\site-packages\\tensorflow\\python\\ops\\init_ops.py:1251: calling VarianceScaling.__init__ (from tensorflow.python.ops.init_ops) with dtype is deprecated and will be removed in a future version.\n",
      "Instructions for updating:\n",
      "Call initializer instance with the dtype argument instead of passing it to the constructor\n"
     ]
    }
   ],
   "source": [
    "model = tf.keras.Sequential([\n",
    "    tf.keras.layers.Flatten(input_shape=(28, 28)),\n",
    "    tf.keras.layers.Dense(128, activation='relu'),\n",
    "    tf.keras.layers.Dense(10)\n",
    "])"
   ]
  },
  {
   "cell_type": "code",
   "execution_count": 23,
   "metadata": {},
   "outputs": [],
   "source": [
    "model.compile(optimizer='adam',\n",
    "              loss=tf.keras.losses.SparseCategoricalCrossentropy(from_logits=True),\n",
    "              metrics=['accuracy'])"
   ]
  },
  {
   "cell_type": "code",
   "execution_count": null,
   "metadata": {},
   "outputs": [],
   "source": []
  }
 ],
 "metadata": {
  "kernelspec": {
   "display_name": "Python 3",
   "language": "python",
   "name": "python3"
  },
  "language_info": {
   "codemirror_mode": {
    "name": "ipython",
    "version": 3
   },
   "file_extension": ".py",
   "mimetype": "text/x-python",
   "name": "python",
   "nbconvert_exporter": "python",
   "pygments_lexer": "ipython3",
   "version": "3.6.10"
  },
  "papermill": {
   "duration": 28831.170345,
   "end_time": "2020-09-21T20:27:48.084532",
   "environment_variables": {},
   "exception": null,
   "input_path": "__notebook__.ipynb",
   "output_path": "__notebook__.ipynb",
   "parameters": {},
   "start_time": "2020-09-21T12:27:16.914187",
   "version": "2.1.0"
  }
 },
 "nbformat": 4,
 "nbformat_minor": 4
}
